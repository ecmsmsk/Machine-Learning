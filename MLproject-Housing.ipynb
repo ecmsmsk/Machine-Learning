{
 "cells": [
  {
   "cell_type": "markdown",
   "id": "25b2bd25-eeef-4873-adfd-5b8acbe94d38",
   "metadata": {},
   "source": [
    "## Project Overview\n",
    "\n",
    "- The objective is to predict the **median_house_value** based on various features like location, population, and other housing-related factors.\n",
    "- The aim is to understand how different factors, such as proximity to the ocean or median income, influence house prices. This can support data-driven decisions in housing investments or urban planning.\n",
    "\n",
    "### 1. Target Variable (continuous):\n",
    "- **median_house_value**\n",
    "\n",
    "### 2. Predictor Variables:\n",
    "- **Categorical**:\n",
    "  - ocean_proximity\n",
    "- **Continuous**:\n",
    "  - longitude\n",
    "  - latitude\n",
    "  - housing_median_age\n",
    "  - total_rooms\n",
    "  - total_bedrooms\n",
    "  - population\n",
    "  - households  - median_income\n",
    "median_income"
   ]
  },
  {
   "cell_type": "code",
   "execution_count": 2,
   "id": "9bc4393f-83e6-458b-9986-92e0a97b3af5",
   "metadata": {},
   "outputs": [],
   "source": [
    "import os\n",
    "import numpy as np\n",
    "import pandas as pd\n",
    "from matplotlib import pyplot as plt \n",
    "%matplotlib  inline \n",
    "import seaborn as sns\n",
    "from sklearn.preprocessing import StandardScaler\n",
    "from sklearn.model_selection import train_test_split"
   ]
  },
  {
   "cell_type": "code",
   "execution_count": 3,
   "id": "77c98d70-e07e-4f55-9eac-6101fb7a1cfe",
   "metadata": {
    "jupyter": {
     "source_hidden": true
    }
   },
   "outputs": [],
   "source": [
    "house = pd.read_csv('housing.csv')"
   ]
  },
  {
   "cell_type": "markdown",
   "id": "4b1c16ba-b9d6-4230-8c3e-e90b20ef7527",
   "metadata": {},
   "source": [
    "# EDA"
   ]
  },
  {
   "cell_type": "code",
   "execution_count": 5,
   "id": "cacb5624-9961-4e9f-b3ed-4aaa244a35f7",
   "metadata": {},
   "outputs": [
    {
     "data": {
      "text/plain": [
       "pandas.core.frame.DataFrame"
      ]
     },
     "execution_count": 5,
     "metadata": {},
     "output_type": "execute_result"
    }
   ],
   "source": [
    "type(house)"
   ]
  },
  {
   "cell_type": "code",
   "execution_count": 6,
   "id": "2aa5c398-078b-4da4-a3da-aefcb28cadae",
   "metadata": {},
   "outputs": [
    {
     "data": {
      "text/html": [
       "<div>\n",
       "<style scoped>\n",
       "    .dataframe tbody tr th:only-of-type {\n",
       "        vertical-align: middle;\n",
       "    }\n",
       "\n",
       "    .dataframe tbody tr th {\n",
       "        vertical-align: top;\n",
       "    }\n",
       "\n",
       "    .dataframe thead th {\n",
       "        text-align: right;\n",
       "    }\n",
       "</style>\n",
       "<table border=\"1\" class=\"dataframe\">\n",
       "  <thead>\n",
       "    <tr style=\"text-align: right;\">\n",
       "      <th></th>\n",
       "      <th>longitude</th>\n",
       "      <th>latitude</th>\n",
       "      <th>housing_median_age</th>\n",
       "      <th>total_rooms</th>\n",
       "      <th>total_bedrooms</th>\n",
       "      <th>population</th>\n",
       "      <th>households</th>\n",
       "      <th>median_income</th>\n",
       "      <th>median_house_value</th>\n",
       "      <th>ocean_proximity</th>\n",
       "    </tr>\n",
       "  </thead>\n",
       "  <tbody>\n",
       "    <tr>\n",
       "      <th>0</th>\n",
       "      <td>-122.23</td>\n",
       "      <td>37.88</td>\n",
       "      <td>41</td>\n",
       "      <td>880</td>\n",
       "      <td>129.0</td>\n",
       "      <td>322</td>\n",
       "      <td>126</td>\n",
       "      <td>8.3252</td>\n",
       "      <td>452600</td>\n",
       "      <td>NEAR BAY</td>\n",
       "    </tr>\n",
       "    <tr>\n",
       "      <th>1</th>\n",
       "      <td>-122.22</td>\n",
       "      <td>37.86</td>\n",
       "      <td>21</td>\n",
       "      <td>7099</td>\n",
       "      <td>1106.0</td>\n",
       "      <td>2401</td>\n",
       "      <td>1138</td>\n",
       "      <td>8.3014</td>\n",
       "      <td>358500</td>\n",
       "      <td>NEAR BAY</td>\n",
       "    </tr>\n",
       "    <tr>\n",
       "      <th>2</th>\n",
       "      <td>-122.24</td>\n",
       "      <td>37.85</td>\n",
       "      <td>52</td>\n",
       "      <td>1467</td>\n",
       "      <td>190.0</td>\n",
       "      <td>496</td>\n",
       "      <td>177</td>\n",
       "      <td>7.2574</td>\n",
       "      <td>352100</td>\n",
       "      <td>NEAR BAY</td>\n",
       "    </tr>\n",
       "    <tr>\n",
       "      <th>3</th>\n",
       "      <td>-122.25</td>\n",
       "      <td>37.85</td>\n",
       "      <td>52</td>\n",
       "      <td>1274</td>\n",
       "      <td>235.0</td>\n",
       "      <td>558</td>\n",
       "      <td>219</td>\n",
       "      <td>5.6431</td>\n",
       "      <td>341300</td>\n",
       "      <td>NEAR BAY</td>\n",
       "    </tr>\n",
       "    <tr>\n",
       "      <th>4</th>\n",
       "      <td>-122.25</td>\n",
       "      <td>37.85</td>\n",
       "      <td>52</td>\n",
       "      <td>1627</td>\n",
       "      <td>280.0</td>\n",
       "      <td>565</td>\n",
       "      <td>259</td>\n",
       "      <td>3.8462</td>\n",
       "      <td>342200</td>\n",
       "      <td>NEAR BAY</td>\n",
       "    </tr>\n",
       "  </tbody>\n",
       "</table>\n",
       "</div>"
      ],
      "text/plain": [
       "   longitude  latitude  housing_median_age  total_rooms  total_bedrooms  \\\n",
       "0    -122.23     37.88                  41          880           129.0   \n",
       "1    -122.22     37.86                  21         7099          1106.0   \n",
       "2    -122.24     37.85                  52         1467           190.0   \n",
       "3    -122.25     37.85                  52         1274           235.0   \n",
       "4    -122.25     37.85                  52         1627           280.0   \n",
       "\n",
       "   population  households  median_income  median_house_value ocean_proximity  \n",
       "0         322         126         8.3252              452600        NEAR BAY  \n",
       "1        2401        1138         8.3014              358500        NEAR BAY  \n",
       "2         496         177         7.2574              352100        NEAR BAY  \n",
       "3         558         219         5.6431              341300        NEAR BAY  \n",
       "4         565         259         3.8462              342200        NEAR BAY  "
      ]
     },
     "execution_count": 6,
     "metadata": {},
     "output_type": "execute_result"
    }
   ],
   "source": [
    "house.head()"
   ]
  },
  {
   "cell_type": "code",
   "execution_count": 7,
   "id": "ae06cb3d-43b9-4026-8103-5bdf8069b8ca",
   "metadata": {},
   "outputs": [
    {
     "data": {
      "text/plain": [
       "(20640, 10)"
      ]
     },
     "execution_count": 7,
     "metadata": {},
     "output_type": "execute_result"
    }
   ],
   "source": [
    "house.shape"
   ]
  },
  {
   "cell_type": "code",
   "execution_count": 8,
   "id": "c3f80354-8957-4892-b091-8094c08a62b2",
   "metadata": {},
   "outputs": [
    {
     "name": "stdout",
     "output_type": "stream",
     "text": [
      "<class 'pandas.core.frame.DataFrame'>\n",
      "RangeIndex: 20640 entries, 0 to 20639\n",
      "Data columns (total 10 columns):\n",
      " #   Column              Non-Null Count  Dtype  \n",
      "---  ------              --------------  -----  \n",
      " 0   longitude           20640 non-null  float64\n",
      " 1   latitude            20640 non-null  float64\n",
      " 2   housing_median_age  20640 non-null  int64  \n",
      " 3   total_rooms         20640 non-null  int64  \n",
      " 4   total_bedrooms      20433 non-null  float64\n",
      " 5   population          20640 non-null  int64  \n",
      " 6   households          20640 non-null  int64  \n",
      " 7   median_income       20640 non-null  float64\n",
      " 8   median_house_value  20640 non-null  int64  \n",
      " 9   ocean_proximity     20640 non-null  object \n",
      "dtypes: float64(4), int64(5), object(1)\n",
      "memory usage: 1.6+ MB\n"
     ]
    }
   ],
   "source": [
    "house.info()"
   ]
  },
  {
   "cell_type": "code",
   "execution_count": 9,
   "id": "5b327ee3-ec9b-44a1-b7ff-48a0c2a586dc",
   "metadata": {},
   "outputs": [
    {
     "data": {
      "text/html": [
       "<div>\n",
       "<style scoped>\n",
       "    .dataframe tbody tr th:only-of-type {\n",
       "        vertical-align: middle;\n",
       "    }\n",
       "\n",
       "    .dataframe tbody tr th {\n",
       "        vertical-align: top;\n",
       "    }\n",
       "\n",
       "    .dataframe thead th {\n",
       "        text-align: right;\n",
       "    }\n",
       "</style>\n",
       "<table border=\"1\" class=\"dataframe\">\n",
       "  <thead>\n",
       "    <tr style=\"text-align: right;\">\n",
       "      <th></th>\n",
       "      <th>longitude</th>\n",
       "      <th>latitude</th>\n",
       "      <th>housing_median_age</th>\n",
       "      <th>total_rooms</th>\n",
       "      <th>total_bedrooms</th>\n",
       "      <th>population</th>\n",
       "      <th>households</th>\n",
       "      <th>median_income</th>\n",
       "      <th>median_house_value</th>\n",
       "    </tr>\n",
       "  </thead>\n",
       "  <tbody>\n",
       "    <tr>\n",
       "      <th>count</th>\n",
       "      <td>20640.000000</td>\n",
       "      <td>20640.000000</td>\n",
       "      <td>20640.000000</td>\n",
       "      <td>20640.000000</td>\n",
       "      <td>20433.000000</td>\n",
       "      <td>20640.000000</td>\n",
       "      <td>20640.000000</td>\n",
       "      <td>20640.000000</td>\n",
       "      <td>20640.000000</td>\n",
       "    </tr>\n",
       "    <tr>\n",
       "      <th>mean</th>\n",
       "      <td>-119.569704</td>\n",
       "      <td>35.631861</td>\n",
       "      <td>28.639486</td>\n",
       "      <td>2635.763081</td>\n",
       "      <td>537.870553</td>\n",
       "      <td>1425.476744</td>\n",
       "      <td>499.539680</td>\n",
       "      <td>3.870671</td>\n",
       "      <td>206855.816909</td>\n",
       "    </tr>\n",
       "    <tr>\n",
       "      <th>std</th>\n",
       "      <td>2.003532</td>\n",
       "      <td>2.135952</td>\n",
       "      <td>12.585558</td>\n",
       "      <td>2181.615252</td>\n",
       "      <td>421.385070</td>\n",
       "      <td>1132.462122</td>\n",
       "      <td>382.329753</td>\n",
       "      <td>1.899822</td>\n",
       "      <td>115395.615874</td>\n",
       "    </tr>\n",
       "    <tr>\n",
       "      <th>min</th>\n",
       "      <td>-124.350000</td>\n",
       "      <td>32.540000</td>\n",
       "      <td>1.000000</td>\n",
       "      <td>2.000000</td>\n",
       "      <td>1.000000</td>\n",
       "      <td>3.000000</td>\n",
       "      <td>1.000000</td>\n",
       "      <td>0.499900</td>\n",
       "      <td>14999.000000</td>\n",
       "    </tr>\n",
       "    <tr>\n",
       "      <th>25%</th>\n",
       "      <td>-121.800000</td>\n",
       "      <td>33.930000</td>\n",
       "      <td>18.000000</td>\n",
       "      <td>1447.750000</td>\n",
       "      <td>296.000000</td>\n",
       "      <td>787.000000</td>\n",
       "      <td>280.000000</td>\n",
       "      <td>2.563400</td>\n",
       "      <td>119600.000000</td>\n",
       "    </tr>\n",
       "    <tr>\n",
       "      <th>50%</th>\n",
       "      <td>-118.490000</td>\n",
       "      <td>34.260000</td>\n",
       "      <td>29.000000</td>\n",
       "      <td>2127.000000</td>\n",
       "      <td>435.000000</td>\n",
       "      <td>1166.000000</td>\n",
       "      <td>409.000000</td>\n",
       "      <td>3.534800</td>\n",
       "      <td>179700.000000</td>\n",
       "    </tr>\n",
       "    <tr>\n",
       "      <th>75%</th>\n",
       "      <td>-118.010000</td>\n",
       "      <td>37.710000</td>\n",
       "      <td>37.000000</td>\n",
       "      <td>3148.000000</td>\n",
       "      <td>647.000000</td>\n",
       "      <td>1725.000000</td>\n",
       "      <td>605.000000</td>\n",
       "      <td>4.743250</td>\n",
       "      <td>264725.000000</td>\n",
       "    </tr>\n",
       "    <tr>\n",
       "      <th>max</th>\n",
       "      <td>-114.310000</td>\n",
       "      <td>41.950000</td>\n",
       "      <td>52.000000</td>\n",
       "      <td>39320.000000</td>\n",
       "      <td>6445.000000</td>\n",
       "      <td>35682.000000</td>\n",
       "      <td>6082.000000</td>\n",
       "      <td>15.000100</td>\n",
       "      <td>500001.000000</td>\n",
       "    </tr>\n",
       "  </tbody>\n",
       "</table>\n",
       "</div>"
      ],
      "text/plain": [
       "          longitude      latitude  housing_median_age   total_rooms  \\\n",
       "count  20640.000000  20640.000000        20640.000000  20640.000000   \n",
       "mean    -119.569704     35.631861           28.639486   2635.763081   \n",
       "std        2.003532      2.135952           12.585558   2181.615252   \n",
       "min     -124.350000     32.540000            1.000000      2.000000   \n",
       "25%     -121.800000     33.930000           18.000000   1447.750000   \n",
       "50%     -118.490000     34.260000           29.000000   2127.000000   \n",
       "75%     -118.010000     37.710000           37.000000   3148.000000   \n",
       "max     -114.310000     41.950000           52.000000  39320.000000   \n",
       "\n",
       "       total_bedrooms    population    households  median_income  \\\n",
       "count    20433.000000  20640.000000  20640.000000   20640.000000   \n",
       "mean       537.870553   1425.476744    499.539680       3.870671   \n",
       "std        421.385070   1132.462122    382.329753       1.899822   \n",
       "min          1.000000      3.000000      1.000000       0.499900   \n",
       "25%        296.000000    787.000000    280.000000       2.563400   \n",
       "50%        435.000000   1166.000000    409.000000       3.534800   \n",
       "75%        647.000000   1725.000000    605.000000       4.743250   \n",
       "max       6445.000000  35682.000000   6082.000000      15.000100   \n",
       "\n",
       "       median_house_value  \n",
       "count        20640.000000  \n",
       "mean        206855.816909  \n",
       "std         115395.615874  \n",
       "min          14999.000000  \n",
       "25%         119600.000000  \n",
       "50%         179700.000000  \n",
       "75%         264725.000000  \n",
       "max         500001.000000  "
      ]
     },
     "execution_count": 9,
     "metadata": {},
     "output_type": "execute_result"
    }
   ],
   "source": [
    "house.describe()"
   ]
  },
  {
   "cell_type": "code",
   "execution_count": 10,
   "id": "6e79ff41-c4dd-4788-966d-61b295a4d2e1",
   "metadata": {},
   "outputs": [
    {
     "data": {
      "text/plain": [
       "longitude             float64\n",
       "latitude              float64\n",
       "housing_median_age      int64\n",
       "total_rooms             int64\n",
       "total_bedrooms        float64\n",
       "population              int64\n",
       "households              int64\n",
       "median_income         float64\n",
       "median_house_value      int64\n",
       "ocean_proximity        object\n",
       "dtype: object"
      ]
     },
     "execution_count": 10,
     "metadata": {},
     "output_type": "execute_result"
    }
   ],
   "source": [
    "house.dtypes"
   ]
  },
  {
   "cell_type": "code",
   "execution_count": 11,
   "id": "9691ad6b-61f8-49c4-bd96-fad4f18ecee1",
   "metadata": {},
   "outputs": [
    {
     "data": {
      "text/plain": [
       "Index(['longitude', 'latitude', 'housing_median_age', 'total_rooms',\n",
       "       'total_bedrooms', 'population', 'households', 'median_income',\n",
       "       'median_house_value', 'ocean_proximity'],\n",
       "      dtype='object')"
      ]
     },
     "execution_count": 11,
     "metadata": {},
     "output_type": "execute_result"
    }
   ],
   "source": [
    "house.columns"
   ]
  },
  {
   "cell_type": "code",
   "execution_count": 12,
   "id": "bc7d1f5e-6d8e-4893-8086-9d93ab5321ed",
   "metadata": {},
   "outputs": [
    {
     "data": {
      "text/plain": [
       "longitude               0\n",
       "latitude                0\n",
       "housing_median_age      0\n",
       "total_rooms             0\n",
       "total_bedrooms        207\n",
       "population              0\n",
       "households              0\n",
       "median_income           0\n",
       "median_house_value      0\n",
       "ocean_proximity         0\n",
       "dtype: int64"
      ]
     },
     "execution_count": 12,
     "metadata": {},
     "output_type": "execute_result"
    }
   ],
   "source": [
    "house.isnull().sum()"
   ]
  },
  {
   "cell_type": "code",
   "execution_count": 13,
   "id": "96a4fff0-eea7-4ca9-915c-fec2e695f4b2",
   "metadata": {},
   "outputs": [
    {
     "data": {
      "image/png": "[encoded data removed]",
      "text/plain": [
       "<Figure size 1200x1000 with 9 Axes>"
      ]
     },
     "metadata": {},
     "output_type": "display_data"
    }
   ],
   "source": [
    "numerical_columns = ['longitude', 'latitude', 'housing_median_age', 'total_rooms', \n",
    "                     'total_bedrooms', 'population', 'households', 'median_income', \n",
    "                     'median_house_value']\n",
    "\n",
    "# Plot histograms for numerical columns\n",
    "house[numerical_columns].hist(figsize=(12, 10), bins=20)\n",
    "plt.tight_layout()\n",
    "plt.show()"
   ]
  },
  {
   "cell_type": "code",
   "execution_count": 14,
   "id": "dfd42adb-3dff-49be-b297-2199cef30c1f",
   "metadata": {},
   "outputs": [
    {
     "data": {
      "image/png": "[encoded data removed]",
      "text/plain": [
       "<Figure size 800x600 with 1 Axes>"
      ]
     },
     "metadata": {},
     "output_type": "display_data"
    }
   ],
   "source": [
    "plt.figure(figsize=(8, 6))\n",
    "sns.countplot(data=house, x='ocean_proximity')\n",
    "plt.title('Distribution of Ocean Proximity')\n",
    "plt.show()"
   ]
  },
  {
   "cell_type": "code",
   "execution_count": 15,
   "id": "ed7564cf-6d22-45e0-bbe8-d4e86956f253",
   "metadata": {},
   "outputs": [
    {
     "data": {
      "text/html": [
       "<div>\n",
       "<style scoped>\n",
       "    .dataframe tbody tr th:only-of-type {\n",
       "        vertical-align: middle;\n",
       "    }\n",
       "\n",
       "    .dataframe tbody tr th {\n",
       "        vertical-align: top;\n",
       "    }\n",
       "\n",
       "    .dataframe thead th {\n",
       "        text-align: right;\n",
       "    }\n",
       "</style>\n",
       "<table border=\"1\" class=\"dataframe\">\n",
       "  <thead>\n",
       "    <tr style=\"text-align: right;\">\n",
       "      <th></th>\n",
       "      <th>total_rooms</th>\n",
       "      <th>population</th>\n",
       "      <th>households</th>\n",
       "      <th>median_income</th>\n",
       "      <th>housing_median_age</th>\n",
       "      <th>median_house_value</th>\n",
       "    </tr>\n",
       "  </thead>\n",
       "  <tbody>\n",
       "    <tr>\n",
       "      <th>total_rooms</th>\n",
       "      <td>1.000000</td>\n",
       "      <td>0.857126</td>\n",
       "      <td>0.918484</td>\n",
       "      <td>0.198050</td>\n",
       "      <td>-0.361262</td>\n",
       "      <td>0.134153</td>\n",
       "    </tr>\n",
       "    <tr>\n",
       "      <th>population</th>\n",
       "      <td>0.857126</td>\n",
       "      <td>1.000000</td>\n",
       "      <td>0.907222</td>\n",
       "      <td>0.004834</td>\n",
       "      <td>-0.296244</td>\n",
       "      <td>-0.024650</td>\n",
       "    </tr>\n",
       "    <tr>\n",
       "      <th>households</th>\n",
       "      <td>0.918484</td>\n",
       "      <td>0.907222</td>\n",
       "      <td>1.000000</td>\n",
       "      <td>0.013033</td>\n",
       "      <td>-0.302916</td>\n",
       "      <td>0.065843</td>\n",
       "    </tr>\n",
       "    <tr>\n",
       "      <th>median_income</th>\n",
       "      <td>0.198050</td>\n",
       "      <td>0.004834</td>\n",
       "      <td>0.013033</td>\n",
       "      <td>1.000000</td>\n",
       "      <td>-0.119034</td>\n",
       "      <td>0.688075</td>\n",
       "    </tr>\n",
       "    <tr>\n",
       "      <th>housing_median_age</th>\n",
       "      <td>-0.361262</td>\n",
       "      <td>-0.296244</td>\n",
       "      <td>-0.302916</td>\n",
       "      <td>-0.119034</td>\n",
       "      <td>1.000000</td>\n",
       "      <td>0.105623</td>\n",
       "    </tr>\n",
       "    <tr>\n",
       "      <th>median_house_value</th>\n",
       "      <td>0.134153</td>\n",
       "      <td>-0.024650</td>\n",
       "      <td>0.065843</td>\n",
       "      <td>0.688075</td>\n",
       "      <td>0.105623</td>\n",
       "      <td>1.000000</td>\n",
       "    </tr>\n",
       "  </tbody>\n",
       "</table>\n",
       "</div>"
      ],
      "text/plain": [
       "                    total_rooms  population  households  median_income  \\\n",
       "total_rooms            1.000000    0.857126    0.918484       0.198050   \n",
       "population             0.857126    1.000000    0.907222       0.004834   \n",
       "households             0.918484    0.907222    1.000000       0.013033   \n",
       "median_income          0.198050    0.004834    0.013033       1.000000   \n",
       "housing_median_age    -0.361262   -0.296244   -0.302916      -0.119034   \n",
       "median_house_value     0.134153   -0.024650    0.065843       0.688075   \n",
       "\n",
       "                    housing_median_age  median_house_value  \n",
       "total_rooms                  -0.361262            0.134153  \n",
       "population                   -0.296244           -0.024650  \n",
       "households                   -0.302916            0.065843  \n",
       "median_income                -0.119034            0.688075  \n",
       "housing_median_age            1.000000            0.105623  \n",
       "median_house_value            0.105623            1.000000  "
      ]
     },
     "execution_count": 15,
     "metadata": {},
     "output_type": "execute_result"
    }
   ],
   "source": [
    "correlation_matrix = house[['total_rooms', 'population', 'households', 'median_income', 'housing_median_age', 'median_house_value']].corr()\n",
    "correlation_matrix"
   ]
  },
  {
   "cell_type": "code",
   "execution_count": 16,
   "id": "496f8a88-f3d8-4f46-ba21-d6910e168efb",
   "metadata": {
    "scrolled": true
   },
   "outputs": [
    {
     "data": {
      "image/png": "[encoded data removed]",
      "text/plain": [
       "<Figure size 640x480 with 2 Axes>"
      ]
     },
     "metadata": {},
     "output_type": "display_data"
    }
   ],
   "source": [
    "sns.heatmap(correlation_matrix, annot=True, cmap=\"coolwarm\", fmt=\".2f\")\n",
    "plt.title('Correlation Matrix of Continuous Variables')\n",
    "plt.show()"
   ]
  },
  {
   "cell_type": "markdown",
   "id": "0043bc84-badf-4d3c-949d-b997e9841cbf",
   "metadata": {},
   "source": [
    "## Data Preprocessing"
   ]
  },
  {
   "cell_type": "code",
   "execution_count": 18,
   "id": "b3976174-e27f-48be-876c-530da9b152d3",
   "metadata": {},
   "outputs": [],
   "source": [
    "#missing values\n",
    "house.dropna(subset=['total_bedrooms'], inplace=True)"
   ]
  },
  {
   "cell_type": "code",
   "execution_count": 19,
   "id": "370c15c3-28a7-4e7a-b0b7-fe3aea979843",
   "metadata": {},
   "outputs": [],
   "source": [
    "house = pd.get_dummies(house, columns=['ocean_proximity'], drop_first=True)"
   ]
  },
  {
   "cell_type": "code",
   "execution_count": 20,
   "id": "467736e4-d34e-42a0-aff4-fd22ab62d4e0",
   "metadata": {},
   "outputs": [],
   "source": [
    "#Featue Engineering\n",
    "house['rooms_per_household'] = house['total_rooms'] / house['households']\n",
    "house['bedrooms_per_room'] = house['total_bedrooms'] / house['total_rooms']\n",
    "house['population_per_household'] = house['population'] / house['households']"
   ]
  },
  {
   "cell_type": "code",
   "execution_count": 21,
   "id": "9d57adce-c05a-4024-ac21-b732a7ebb328",
   "metadata": {},
   "outputs": [],
   "source": [
    "#scaling\n",
    "# Define numerical features (excluding the target variable)\n",
    "numerical_features = house.select_dtypes(include=[np.number]).columns.tolist()\n",
    "numerical_features.remove('median_house_value')  # Remove target variable\n",
    "\n",
    "# Initialize the scaler\n",
    "scaler = StandardScaler()\n",
    "\n",
    "# Fit and transform the numerical features\n",
    "house[numerical_features] = scaler.fit_transform(house[numerical_features])\n"
   ]
  },
  {
   "cell_type": "markdown",
   "id": "4206d303-7189-4b29-b6e7-ddc4bbef46a9",
   "metadata": {},
   "source": [
    "## Training and Testing"
   ]
  },
  {
   "cell_type": "code",
   "execution_count": 23,
   "id": "c1b2e664-06a8-4ffb-8fea-5c006b404716",
   "metadata": {},
   "outputs": [],
   "source": [
    "X = house.drop('median_house_value', axis=1)\n",
    "y = house['median_house_value']"
   ]
  },
  {
   "cell_type": "code",
   "execution_count": 24,
   "id": "b7209758-0da7-4451-9f9c-e1dd82c4c927",
   "metadata": {},
   "outputs": [
    {
     "name": "stdout",
     "output_type": "stream",
     "text": [
      "X_train shape: (16346, 15)\n",
      "X_test shape: (4087, 15)\n",
      "y_train shape: (16346,)\n",
      "y_test shape: (4087,)\n"
     ]
    }
   ],
   "source": [
    "#80% training, 20% testing\n",
    "X_train, X_test, y_train, y_test = train_test_split(X, y, test_size=0.2, random_state=42)\n",
    "\n",
    "print(f'X_train shape: {X_train.shape}')\n",
    "print(f'X_test shape: {X_test.shape}')\n",
    "print(f'y_train shape: {y_train.shape}')\n",
    "print(f'y_test shape: {y_test.shape}')"
   ]
  },
  {
   "cell_type": "code",
   "execution_count": 25,
   "id": "78feb139-161a-4f15-8c9a-9caa5dabdc1d",
   "metadata": {},
   "outputs": [
    {
     "name": "stdout",
     "output_type": "stream",
     "text": [
      "longitude                     0\n",
      "latitude                      0\n",
      "housing_median_age            0\n",
      "total_rooms                   0\n",
      "total_bedrooms                0\n",
      "population                    0\n",
      "households                    0\n",
      "median_income                 0\n",
      "median_house_value            0\n",
      "ocean_proximity_INLAND        0\n",
      "ocean_proximity_ISLAND        0\n",
      "ocean_proximity_NEAR BAY      0\n",
      "ocean_proximity_NEAR OCEAN    0\n",
      "rooms_per_household           0\n",
      "bedrooms_per_room             0\n",
      "population_per_household      0\n",
      "dtype: int64\n"
     ]
    }
   ],
   "source": [
    "print(house.isnull().sum())"
   ]
  },
  {
   "cell_type": "code",
   "execution_count": 26,
   "id": "b480a34a-3589-46cc-b758-8b28fe1e71d3",
   "metadata": {},
   "outputs": [
    {
     "data": {
      "text/html": [
       "<div>\n",
       "<style scoped>\n",
       "    .dataframe tbody tr th:only-of-type {\n",
       "        vertical-align: middle;\n",
       "    }\n",
       "\n",
       "    .dataframe tbody tr th {\n",
       "        vertical-align: top;\n",
       "    }\n",
       "\n",
       "    .dataframe thead th {\n",
       "        text-align: right;\n",
       "    }\n",
       "</style>\n",
       "<table border=\"1\" class=\"dataframe\">\n",
       "  <thead>\n",
       "    <tr style=\"text-align: right;\">\n",
       "      <th></th>\n",
       "      <th>longitude</th>\n",
       "      <th>latitude</th>\n",
       "      <th>housing_median_age</th>\n",
       "      <th>total_rooms</th>\n",
       "      <th>total_bedrooms</th>\n",
       "      <th>population</th>\n",
       "      <th>households</th>\n",
       "      <th>median_income</th>\n",
       "      <th>median_house_value</th>\n",
       "      <th>ocean_proximity_INLAND</th>\n",
       "      <th>ocean_proximity_ISLAND</th>\n",
       "      <th>ocean_proximity_NEAR BAY</th>\n",
       "      <th>ocean_proximity_NEAR OCEAN</th>\n",
       "      <th>rooms_per_household</th>\n",
       "      <th>bedrooms_per_room</th>\n",
       "      <th>population_per_household</th>\n",
       "    </tr>\n",
       "  </thead>\n",
       "  <tbody>\n",
       "    <tr>\n",
       "      <th>0</th>\n",
       "      <td>-1.327314</td>\n",
       "      <td>1.051717</td>\n",
       "      <td>0.982163</td>\n",
       "      <td>-0.803813</td>\n",
       "      <td>-0.970325</td>\n",
       "      <td>-0.973320</td>\n",
       "      <td>-0.976833</td>\n",
       "      <td>2.345163</td>\n",
       "      <td>452600</td>\n",
       "      <td>False</td>\n",
       "      <td>False</td>\n",
       "      <td>True</td>\n",
       "      <td>False</td>\n",
       "      <td>0.625395</td>\n",
       "      <td>-1.146024</td>\n",
       "      <td>-0.049433</td>\n",
       "    </tr>\n",
       "    <tr>\n",
       "      <th>1</th>\n",
       "      <td>-1.322323</td>\n",
       "      <td>1.042355</td>\n",
       "      <td>-0.606210</td>\n",
       "      <td>2.042130</td>\n",
       "      <td>1.348276</td>\n",
       "      <td>0.861339</td>\n",
       "      <td>1.670373</td>\n",
       "      <td>2.332632</td>\n",
       "      <td>358500</td>\n",
       "      <td>False</td>\n",
       "      <td>False</td>\n",
       "      <td>True</td>\n",
       "      <td>False</td>\n",
       "      <td>0.324942</td>\n",
       "      <td>-0.987254</td>\n",
       "      <td>-0.092134</td>\n",
       "    </tr>\n",
       "    <tr>\n",
       "      <th>2</th>\n",
       "      <td>-1.332305</td>\n",
       "      <td>1.037674</td>\n",
       "      <td>1.855769</td>\n",
       "      <td>-0.535189</td>\n",
       "      <td>-0.825561</td>\n",
       "      <td>-0.819769</td>\n",
       "      <td>-0.843427</td>\n",
       "      <td>1.782939</td>\n",
       "      <td>352100</td>\n",
       "      <td>False</td>\n",
       "      <td>False</td>\n",
       "      <td>True</td>\n",
       "      <td>False</td>\n",
       "      <td>1.150594</td>\n",
       "      <td>-1.440514</td>\n",
       "      <td>-0.025797</td>\n",
       "    </tr>\n",
       "    <tr>\n",
       "      <th>3</th>\n",
       "      <td>-1.337296</td>\n",
       "      <td>1.037674</td>\n",
       "      <td>1.855769</td>\n",
       "      <td>-0.623510</td>\n",
       "      <td>-0.718768</td>\n",
       "      <td>-0.765056</td>\n",
       "      <td>-0.733562</td>\n",
       "      <td>0.932970</td>\n",
       "      <td>341300</td>\n",
       "      <td>False</td>\n",
       "      <td>False</td>\n",
       "      <td>True</td>\n",
       "      <td>False</td>\n",
       "      <td>0.155467</td>\n",
       "      <td>-0.492925</td>\n",
       "      <td>-0.050162</td>\n",
       "    </tr>\n",
       "    <tr>\n",
       "      <th>4</th>\n",
       "      <td>-1.337296</td>\n",
       "      <td>1.037674</td>\n",
       "      <td>1.855769</td>\n",
       "      <td>-0.461970</td>\n",
       "      <td>-0.611974</td>\n",
       "      <td>-0.758879</td>\n",
       "      <td>-0.628930</td>\n",
       "      <td>-0.013143</td>\n",
       "      <td>342200</td>\n",
       "      <td>False</td>\n",
       "      <td>False</td>\n",
       "      <td>True</td>\n",
       "      <td>False</td>\n",
       "      <td>0.342549</td>\n",
       "      <td>-0.706141</td>\n",
       "      <td>-0.085272</td>\n",
       "    </tr>\n",
       "  </tbody>\n",
       "</table>\n",
       "</div>"
      ],
      "text/plain": [
       "   longitude  latitude  housing_median_age  total_rooms  total_bedrooms  \\\n",
       "0  -1.327314  1.051717            0.982163    -0.803813       -0.970325   \n",
       "1  -1.322323  1.042355           -0.606210     2.042130        1.348276   \n",
       "2  -1.332305  1.037674            1.855769    -0.535189       -0.825561   \n",
       "3  -1.337296  1.037674            1.855769    -0.623510       -0.718768   \n",
       "4  -1.337296  1.037674            1.855769    -0.461970       -0.611974   \n",
       "\n",
       "   population  households  median_income  median_house_value  \\\n",
       "0   -0.973320   -0.976833       2.345163              452600   \n",
       "1    0.861339    1.670373       2.332632              358500   \n",
       "2   -0.819769   -0.843427       1.782939              352100   \n",
       "3   -0.765056   -0.733562       0.932970              341300   \n",
       "4   -0.758879   -0.628930      -0.013143              342200   \n",
       "\n",
       "   ocean_proximity_INLAND  ocean_proximity_ISLAND  ocean_proximity_NEAR BAY  \\\n",
       "0                   False                   False                      True   \n",
       "1                   False                   False                      True   \n",
       "2                   False                   False                      True   \n",
       "3                   False                   False                      True   \n",
       "4                   False                   False                      True   \n",
       "\n",
       "   ocean_proximity_NEAR OCEAN  rooms_per_household  bedrooms_per_room  \\\n",
       "0                       False             0.625395          -1.146024   \n",
       "1                       False             0.324942          -0.987254   \n",
       "2                       False             1.150594          -1.440514   \n",
       "3                       False             0.155467          -0.492925   \n",
       "4                       False             0.342549          -0.706141   \n",
       "\n",
       "   population_per_household  \n",
       "0                 -0.049433  \n",
       "1                 -0.092134  \n",
       "2                 -0.025797  \n",
       "3                 -0.050162  \n",
       "4                 -0.085272  "
      ]
     },
     "execution_count": 26,
     "metadata": {},
     "output_type": "execute_result"
    }
   ],
   "source": [
    "house.head()"
   ]
  },
  {
   "cell_type": "markdown",
   "id": "efcf9521-ebb9-4218-ac3b-b0ff75c9a8f9",
   "metadata": {},
   "source": [
    "# Models"
   ]
  },
  {
   "cell_type": "code",
   "execution_count": 79,
   "id": "6954afd9-ca15-4803-b90f-86f6af3a1ed1",
   "metadata": {},
   "outputs": [],
   "source": [
    "from sklearn.linear_model import LinearRegression, RidgeCV, LassoCV\n",
    "from sklearn.metrics import mean_squared_error, r2_score, mean_absolute_error\n",
    "from sklearn.neighbors import KNeighborsRegressor\n",
    "from sklearn.ensemble import RandomForestRegressor, GradientBoostingRegressor\n",
    "import xgboost as xgb\n",
    "from xgboost import XGBRegressor\n",
    "from sklearn.model_selection import GridSearchCV\n",
    "from sklearn.model_selection import RandomizedSearchCV"
   ]
  },
  {
   "cell_type": "markdown",
   "id": "40bda1b9-7f14-4352-a5b6-b490911f594c",
   "metadata": {},
   "source": [
    "## Multiple Linear Regression"
   ]
  },
  {
   "cell_type": "code",
   "execution_count": 30,
   "id": "b8920680-f546-4f53-aaad-421e4a9f1ead",
   "metadata": {},
   "outputs": [],
   "source": [
    "linear_reg = LinearRegression()\n",
    "linear_reg.fit(X_train, y_train)\n",
    "y_pred = linear_reg.predict(X_test)"
   ]
  },
  {
   "cell_type": "code",
   "execution_count": 31,
   "id": "d4ac740f-c322-4f54-a223-c0a3898201d6",
   "metadata": {},
   "outputs": [],
   "source": [
    "#evaluate model\n",
    "mse = mean_squared_error(y_test, y_pred)\n",
    "r2 = r2_score (y_test, y_pred)\n",
    "mae = mean_absolute_error(y_test, y_pred)"
   ]
  },
  {
   "cell_type": "code",
   "execution_count": 32,
   "id": "24255d26-40be-48fb-b6bf-0502f941c45a",
   "metadata": {},
   "outputs": [
    {
     "name": "stdout",
     "output_type": "stream",
     "text": [
      "Mean Squared Error: 4766908188.84913\n",
      "R^2 Score: 0.6514190003460656\n",
      "Mean absolute Error: 49774.50536974606\n"
     ]
    }
   ],
   "source": [
    "print(f'Mean Squared Error: {mse}')\n",
    "print(f'R^2 Score: {r2}')\n",
    "print(f'Mean absolute Error: {mae}')"
   ]
  },
  {
   "cell_type": "markdown",
   "id": "27c9cdf3-47cb-44f3-a43a-77f114cfab8c",
   "metadata": {},
   "source": [
    "## Ridge Regression"
   ]
  },
  {
   "cell_type": "code",
   "execution_count": 34,
   "id": "abb79fbe-1045-4aaa-b241-2f8306c88c30",
   "metadata": {},
   "outputs": [],
   "source": [
    "ridge = RidgeCV(alphas=[0.1, 1.0, 10.0], cv=5)\n",
    "ridge.fit(X_train, y_train)\n",
    "y_ridge_pred = ridge.predict(X_test)  #X_TRRAIN"
   ]
  },
  {
   "cell_type": "code",
   "execution_count": 35,
   "id": "fb98879f-fe5c-4148-a2b4-1b616bdaac10",
   "metadata": {},
   "outputs": [],
   "source": [
    "y_ridge_train = ridge.predict(X_train)"
   ]
  },
  {
   "cell_type": "code",
   "execution_count": 36,
   "id": "c091d51e-8cec-488c-9300-5112822fc0ca",
   "metadata": {},
   "outputs": [
    {
     "name": "stdout",
     "output_type": "stream",
     "text": [
      "Mean Squared Error_train: 4574760155.566859\n",
      "R^2 Score_train: 0.6543928255676427\n"
     ]
    }
   ],
   "source": [
    "mse_ridge_train = mean_squared_error(y_train, y_ridge_train)\n",
    "r2_ridge_train = r2_score(y_train, y_ridge_train)\n",
    "mae_ridge_train = mean_absolute_error(y_train, y_ridge_train)\n",
    "print(f'Mean Squared Error_train: {mse_ridge_train}')\n",
    "print(f'R^2 Score_train: {r2_ridge_train}')"
   ]
  },
  {
   "cell_type": "code",
   "execution_count": 37,
   "id": "9a313e38-d0b1-4ace-bedd-239de03063db",
   "metadata": {},
   "outputs": [],
   "source": [
    "mse_ridge = mean_squared_error(y_test, y_ridge_pred)\n",
    "r2_ridge = r2_score(y_test, y_ridge_pred)\n",
    "mae_ridge = mean_absolute_error(y_test, y_ridge_pred)"
   ]
  },
  {
   "cell_type": "code",
   "execution_count": 38,
   "id": "9fc8f0e6-224d-4f2c-8813-21817a74e283",
   "metadata": {},
   "outputs": [
    {
     "name": "stdout",
     "output_type": "stream",
     "text": [
      "Mean Squared Error: 4765917414.452269\n",
      "R^2 Score: 0.6514914508980811\n",
      "Mean absolute Error: 49771.59936467018\n"
     ]
    }
   ],
   "source": [
    "print(f'Mean Squared Error: {mse_ridge}')\n",
    "print(f'R^2 Score: {r2_ridge}')\n",
    "print(f'Mean absolute Error: {mae_ridge}')"
   ]
  },
  {
   "cell_type": "markdown",
   "id": "edff8e24-06b5-4f6b-bb0d-a9fa822267a7",
   "metadata": {},
   "source": [
    "## K-Nearest Neighbors Regression"
   ]
  },
  {
   "cell_type": "code",
   "execution_count": 40,
   "id": "6ba697be-dad3-4b20-9241-0d5269c2fceb",
   "metadata": {},
   "outputs": [],
   "source": [
    "knn = KNeighborsRegressor()\n",
    "knn.fit(X_train, y_train)\n",
    "y_knn_pred = knn.predict(X_test)"
   ]
  },
  {
   "cell_type": "code",
   "execution_count": 41,
   "id": "0496545d-9c5d-4abe-aa0a-82dd52e15d30",
   "metadata": {},
   "outputs": [],
   "source": [
    "mse_knn = mean_squared_error(y_test, y_knn_pred)\n",
    "r2_knn = r2_score(y_test, y_knn_pred)\n",
    "mae_knn = mean_absolute_error(y_test, y_knn_pred )"
   ]
  },
  {
   "cell_type": "code",
   "execution_count": 42,
   "id": "3418117d-69c7-464c-ad52-281872a226d3",
   "metadata": {},
   "outputs": [
    {
     "name": "stdout",
     "output_type": "stream",
     "text": [
      "Mean Squared Error: 3722284230.2367997\n",
      "R^2 Score: 0.7278073110350217\n",
      "Mean absolute Error: 40694.73584536334\n"
     ]
    }
   ],
   "source": [
    "print(f'Mean Squared Error: {mse_knn}')\n",
    "print(f'R^2 Score: {r2_knn}')\n",
    "print(f'Mean absolute Error: {mae_knn}')"
   ]
  },
  {
   "cell_type": "code",
   "execution_count": 43,
   "id": "44708bec-df15-4710-b6e8-d6e3c93252f5",
   "metadata": {},
   "outputs": [
    {
     "name": "stdout",
     "output_type": "stream",
     "text": [
      "Mean Squared Error_train: 2435879961.6842823\n",
      "R^2 Score_train: 0.8159777644758758\n"
     ]
    }
   ],
   "source": [
    "y_knn_train = knn.predict(X_train)\n",
    "mse_knn_train = mean_squared_error(y_train, y_knn_train)\n",
    "r2_knn_train = r2_score(y_train, y_knn_train)\n",
    "mae_knn_train = mean_absolute_error(y_train, y_knn_train)\n",
    "print(f'Mean Squared Error_train: {mse_knn_train}')\n",
    "print(f'R^2 Score_train: {r2_knn_train}')"
   ]
  },
  {
   "cell_type": "markdown",
   "id": "f309a169-eb01-44f8-9de1-85ccb2512fb8",
   "metadata": {},
   "source": [
    "## Lasso Regression"
   ]
  },
  {
   "cell_type": "code",
   "execution_count": 45,
   "id": "2599a57f-330b-466c-a7fc-1fbc082f5b8a",
   "metadata": {},
   "outputs": [],
   "source": [
    "lasso = LassoCV(alphas = [0.1, 1.0, 10.0], cv=5)\n",
    "lasso.fit(X_train, y_train)\n",
    "y_lasso_pred = lasso.predict(X_test)"
   ]
  },
  {
   "cell_type": "code",
   "execution_count": 46,
   "id": "ef33b923-0ec0-4286-a85f-aa6561338d5d",
   "metadata": {},
   "outputs": [],
   "source": [
    "mse_lasso = mean_squared_error(y_test, y_lasso_pred)\n",
    "r2_lasso = r2_score(y_test, y_lasso_pred)\n",
    "mae_lasso = mean_absolute_error(y_test, y_pred)"
   ]
  },
  {
   "cell_type": "code",
   "execution_count": 47,
   "id": "250c19e1-79c5-45f2-943d-b05ece3fb380",
   "metadata": {},
   "outputs": [
    {
     "name": "stdout",
     "output_type": "stream",
     "text": [
      "Mean Squared Error: 4766078085.158419\n",
      "R^2 Score: 0.6514797018244372\n",
      "Mean absolute Error: 49774.50536974606\n"
     ]
    }
   ],
   "source": [
    "print(f'Mean Squared Error: {mse_lasso}')\n",
    "print(f'R^2 Score: {r2_lasso}')\n",
    "print(f'Mean absolute Error: {mae_lasso}')"
   ]
  },
  {
   "cell_type": "code",
   "execution_count": 48,
   "id": "0757d732-6878-4055-bf3f-d5add690293c",
   "metadata": {},
   "outputs": [
    {
     "name": "stdout",
     "output_type": "stream",
     "text": [
      "Mean Squared Error_train: 4574757386.855302\n",
      "R^2 Score_train: 0.6543930347341445\n"
     ]
    }
   ],
   "source": [
    "y_lasso_train = lasso.predict(X_train)\n",
    "mse_lasso_train = mean_squared_error(y_train, y_lasso_train)\n",
    "r2_lasso_train = r2_score(y_train, y_lasso_train)\n",
    "mae_lasso_train = mean_absolute_error(y_train, y_lasso_train)\n",
    "print(f'Mean Squared Error_train: {mse_lasso_train}')\n",
    "print(f'R^2 Score_train: {r2_lasso_train}')"
   ]
  },
  {
   "cell_type": "markdown",
   "id": "37c80ff3-1e28-4720-983a-db25b55ec984",
   "metadata": {},
   "source": [
    "## Random Forest Regression"
   ]
  },
  {
   "cell_type": "code",
   "execution_count": 50,
   "id": "d0827297-8211-4e69-8198-83a7fc044d9f",
   "metadata": {},
   "outputs": [],
   "source": [
    "rf_model = RandomForestRegressor(n_estimators=100, random_state=42)\n",
    "rf_model.fit(X_train, y_train)\n",
    "y_rf_pred = rf_model.predict(X_test)"
   ]
  },
  {
   "cell_type": "code",
   "execution_count": 51,
   "id": "770395fe-90d2-452d-8c62-52958644f701",
   "metadata": {},
   "outputs": [],
   "source": [
    "mse_rf = mean_squared_error(y_test, y_rf_pred)\n",
    "r2_rf = r2_score(y_test, y_rf_pred)\n",
    "mae_rf = mean_absolute_error(y_test, y_pred)"
   ]
  },
  {
   "cell_type": "code",
   "execution_count": 52,
   "id": "abdc544f-822d-451a-9888-3721ecd93621",
   "metadata": {},
   "outputs": [
    {
     "name": "stdout",
     "output_type": "stream",
     "text": [
      "Mean Squared Error: 2555973299.236541\n",
      "R^2 Score: 0.8130940029806316\n",
      "Mean absolute Error: 49774.50536974606\n"
     ]
    }
   ],
   "source": [
    "print(f'Mean Squared Error: {mse_rf}')\n",
    "print(f'R^2 Score: {r2_rf}')\n",
    "print(f'Mean absolute Error: {mae_rf}')"
   ]
  },
  {
   "cell_type": "code",
   "execution_count": 53,
   "id": "7bbd3fb3-9760-4fb8-a818-47ef304635a5",
   "metadata": {},
   "outputs": [
    {
     "name": "stdout",
     "output_type": "stream",
     "text": [
      "Mean Squared Error_train: 344404689.125419\n",
      "R^2 Score_train: 0.9739814269115182\n"
     ]
    }
   ],
   "source": [
    "y_rf_model_train = rf_model.predict(X_train)\n",
    "\n",
    "mse_rf_model_train = mean_squared_error(y_train, y_rf_model_train)\n",
    "r2_rf_model_train = r2_score(y_train, y_rf_model_train)\n",
    "mae_rf_model_train = mean_absolute_error(y_train, y_rf_model_train)\n",
    "print(f'Mean Squared Error_train: {mse_rf_model_train}')\n",
    "print(f'R^2 Score_train: {r2_rf_model_train}')"
   ]
  },
  {
   "cell_type": "markdown",
   "id": "fcdfd1c2-6e9b-43b3-af5e-96fe2d37406a",
   "metadata": {},
   "source": [
    "## Gradient Boosting Regression"
   ]
  },
  {
   "cell_type": "code",
   "execution_count": 55,
   "id": "62260c86-dc41-491b-a412-ed1823d5cb76",
   "metadata": {},
   "outputs": [],
   "source": [
    "gb_model = GradientBoostingRegressor(n_estimators=100, random_state=42)\n",
    "gb_model.fit(X_train, y_train)\n",
    "y_gb_pred = gb_model.predict(X_test)"
   ]
  },
  {
   "cell_type": "code",
   "execution_count": 56,
   "id": "eb0c4b04-0953-4cc5-86e7-9746744a15e0",
   "metadata": {},
   "outputs": [],
   "source": [
    "mse_gb = mean_squared_error(y_test, y_gb_pred)\n",
    "r2_gb = r2_score(y_test, y_gb_pred)\n",
    "mae_gb = mean_absolute_error(y_test, y_pred)"
   ]
  },
  {
   "cell_type": "code",
   "execution_count": 57,
   "id": "5d224e16-a410-4dcb-ab8f-54dd6f78f8e5",
   "metadata": {},
   "outputs": [
    {
     "name": "stdout",
     "output_type": "stream",
     "text": [
      "Mean Squared Error: 2937137783.8284307\n",
      "R^2 Score: 0.7852212830103954\n",
      "Mean absolute Error: 49774.50536974606\n"
     ]
    }
   ],
   "source": [
    "print(f'Mean Squared Error: {mse_gb}')\n",
    "print(f'R^2 Score: {r2_gb}')\n",
    "print(f'Mean absolute Error: {mae_gb}')"
   ]
  },
  {
   "cell_type": "code",
   "execution_count": 58,
   "id": "96828ff1-68b6-4753-bd64-6cd0e6c827fe",
   "metadata": {},
   "outputs": [
    {
     "name": "stdout",
     "output_type": "stream",
     "text": [
      "Mean Squared Error_train: 2573284639.969767\n",
      "R^2 Score_train: 0.805597320255593\n"
     ]
    }
   ],
   "source": [
    "y_gb_model_train = gb_model.predict(X_train)\n",
    "\n",
    "mse_gb_model_train = mean_squared_error(y_train, y_gb_model_train)\n",
    "r2_gb_model_train = r2_score(y_train, y_gb_model_train)\n",
    "mae_gb_model_train = mean_absolute_error(y_train, y_gb_model_train)\n",
    "print(f'Mean Squared Error_train: {mse_gb_model_train}')\n",
    "print(f'R^2 Score_train: {r2_gb_model_train}')"
   ]
  },
  {
   "cell_type": "markdown",
   "id": "0352d4b2-f696-4630-b5b2-b927a3bcec2d",
   "metadata": {},
   "source": [
    "## XGBoost Regression"
   ]
  },
  {
   "cell_type": "code",
   "execution_count": 60,
   "id": "661d7291-50c5-4f76-ac7f-3a894a186ed6",
   "metadata": {},
   "outputs": [],
   "source": [
    "xgb_model = XGBRegressor(n_estimators=100, random_state=42)\n",
    "xgb_model.fit(X_train, y_train)\n",
    "y_xgb_pred = xgb_model.predict(X_test)"
   ]
  },
  {
   "cell_type": "code",
   "execution_count": 61,
   "id": "3bf0c89b-8267-4016-bd37-99f1f3d204a3",
   "metadata": {},
   "outputs": [],
   "source": [
    "mse_xgb = mean_squared_error(y_test, y_xgb_pred)\n",
    "r2_xgb = r2_score(y_test, y_xgb_pred)\n",
    "mae_xgb = mean_absolute_error(y_test, y_pred)"
   ]
  },
  {
   "cell_type": "code",
   "execution_count": 62,
   "id": "98c4334b-0d06-403c-b1b8-87dd7c35f84d",
   "metadata": {
    "scrolled": true
   },
   "outputs": [
    {
     "name": "stdout",
     "output_type": "stream",
     "text": [
      " Mean Squared Error: 2310862993.802167\n",
      " R^2 Score: 0.8310177326202393\n",
      "Mean absolute Error: 49774.50536974606\n"
     ]
    }
   ],
   "source": [
    "print(f' Mean Squared Error: {mse_xgb}')\n",
    "print(f' R^2 Score: {r2_xgb}')\n",
    "print(f'Mean absolute Error: {mae_xgb}')"
   ]
  },
  {
   "cell_type": "code",
   "execution_count": 63,
   "id": "7d647e73-5a7e-4b8a-a5d6-25d7322ebf53",
   "metadata": {},
   "outputs": [
    {
     "name": "stdout",
     "output_type": "stream",
     "text": [
      "Mean Squared Error_train: 703376502.0700763\n",
      "R^2 Score_train: 0.9468623399734497\n"
     ]
    }
   ],
   "source": [
    "y_xgb_model_train = xgb_model.predict(X_train)\n",
    "\n",
    "mse_xgb_model_train = mean_squared_error(y_train, y_xgb_model_train)\n",
    "r2_xgb_model_train = r2_score(y_train, y_xgb_model_train)\n",
    "mae_xgb_model_train = mean_absolute_error(y_train, y_xgb_model_train)\n",
    "print(f'Mean Squared Error_train: {mse_xgb_model_train}')\n",
    "print(f'R^2 Score_train: {r2_xgb_model_train}')"
   ]
  },
  {
   "cell_type": "markdown",
   "id": "aad242c8-bd1c-4f64-84e7-e3fef7fde45c",
   "metadata": {},
   "source": [
    "## Decision Tree"
   ]
  },
  {
   "cell_type": "code",
   "execution_count": 65,
   "id": "7784f7f6-9b55-464c-b195-0339de29f95a",
   "metadata": {},
   "outputs": [],
   "source": [
    "from sklearn.tree import DecisionTreeRegressor\n",
    "tree_reg = DecisionTreeRegressor(random_state=42)\n",
    "tree_reg.fit(X_train, y_train)\n",
    "y_pred_tree = tree_reg.predict(X_test)"
   ]
  },
  {
   "cell_type": "code",
   "execution_count": 66,
   "id": "1ed9daff-f350-4d25-8d76-5093f00562dc",
   "metadata": {},
   "outputs": [
    {
     "name": "stdout",
     "output_type": "stream",
     "text": [
      "Mean Squared Error_train: 43152.20406165892\n",
      "R^2 Score_train: 0.663802515391607\n"
     ]
    }
   ],
   "source": [
    "mse_tree_reg = mean_squared_error(y_test, y_pred_tree)\n",
    "r2_tree_reg= r2_score(y_test, y_pred_tree)\n",
    "mae_tree_reg = mean_absolute_error(y_test, y_pred_tree)\n",
    "print(f'Mean Squared Error_train: {mae_tree_reg}')\n",
    "print(f'R^2 Score_train: {r2_tree_reg}')"
   ]
  },
  {
   "cell_type": "markdown",
   "id": "c76e23d4-127e-4141-bab4-6d58fbabbfcc",
   "metadata": {},
   "source": [
    "# Coefficient and features"
   ]
  },
  {
   "cell_type": "code",
   "execution_count": 68,
   "id": "812124e5-4182-4125-b7ac-036cad6057b6",
   "metadata": {},
   "outputs": [
    {
     "name": "stdout",
     "output_type": "stream",
     "text": [
      "Linear Regression Coefficients:\n",
      "longitude                     -56839.941932\n",
      "latitude                      -57164.265135\n",
      "housing_median_age             13890.803224\n",
      "total_rooms                     5083.439846\n",
      "total_bedrooms                  5265.150244\n",
      "population                    -44089.570646\n",
      "households                     38842.099929\n",
      "median_income                  78235.742249\n",
      "ocean_proximity_INLAND        -34322.428122\n",
      "ocean_proximity_ISLAND        208268.433908\n",
      "ocean_proximity_NEAR BAY       -6462.127924\n",
      "ocean_proximity_NEAR OCEAN      2870.007912\n",
      "rooms_per_household             8494.734626\n",
      "bedrooms_per_room              16887.634354\n",
      "population_per_household         636.998362\n",
      "dtype: float64\n",
      "Ridge Regression Coefficients:\n",
      "longitude                     -56838.265307\n",
      "latitude                      -57163.220819\n",
      "housing_median_age             13892.283829\n",
      "total_rooms                     5084.604123\n",
      "total_bedrooms                  5281.609551\n",
      "population                    -44087.085216\n",
      "households                     38822.057654\n",
      "median_income                  78234.990134\n",
      "ocean_proximity_INLAND        -34325.160461\n",
      "ocean_proximity_ISLAND        201540.786524\n",
      "ocean_proximity_NEAR BAY       -6463.360753\n",
      "ocean_proximity_NEAR OCEAN      2867.674409\n",
      "rooms_per_household             8493.607122\n",
      "bedrooms_per_room              16887.629016\n",
      "population_per_household         636.700257\n",
      "dtype: float64\n",
      "Lasso Regression Coefficients:\n",
      "longitude                     -56819.679253\n",
      "latitude                      -57146.210190\n",
      "housing_median_age             13890.341578\n",
      "total_rooms                     5075.535405\n",
      "total_bedrooms                  5284.100054\n",
      "population                    -44076.551553\n",
      "households                     38817.222904\n",
      "median_income                  78235.980996\n",
      "ocean_proximity_INLAND        -34328.631778\n",
      "ocean_proximity_ISLAND        202825.008425\n",
      "ocean_proximity_NEAR BAY       -6443.847118\n",
      "ocean_proximity_NEAR OCEAN      2866.809232\n",
      "rooms_per_household             8491.167958\n",
      "bedrooms_per_room              16884.430866\n",
      "population_per_household         634.976622\n",
      "dtype: float64\n"
     ]
    }
   ],
   "source": [
    "# For Linear Regression\n",
    "coefficients = pd.Series(linear_reg.coef_, index=X.columns)\n",
    "print(\"Linear Regression Coefficients:\")\n",
    "print(coefficients)\n",
    "\n",
    "# For Ridge Regression\n",
    "ridge_coefficients = pd.Series(ridge.coef_, index=X.columns)\n",
    "print(\"Ridge Regression Coefficients:\")\n",
    "print(ridge_coefficients)\n",
    "\n",
    "# For Lasso Regression\n",
    "lasso_coefficients = pd.Series(lasso.coef_, index=X.columns)\n",
    "print(\"Lasso Regression Coefficients:\")\n",
    "print(lasso_coefficients)"
   ]
  },
  {
   "cell_type": "code",
   "execution_count": 69,
   "id": "da0333b5-8a38-4467-a5f3-2631c9c8ab9d",
   "metadata": {},
   "outputs": [
    {
     "name": "stdout",
     "output_type": "stream",
     "text": [
      "Random Forest Feature Importances:\n",
      "median_income                 0.477759\n",
      "ocean_proximity_INLAND        0.138968\n",
      "population_per_household      0.121088\n",
      "longitude                     0.059274\n",
      "latitude                      0.056498\n",
      "housing_median_age            0.044412\n",
      "rooms_per_household           0.026495\n",
      "bedrooms_per_room             0.024660\n",
      "total_rooms                   0.012719\n",
      "population                    0.012197\n",
      "total_bedrooms                0.011407\n",
      "households                    0.010588\n",
      "ocean_proximity_NEAR OCEAN    0.002865\n",
      "ocean_proximity_NEAR BAY      0.000888\n",
      "ocean_proximity_ISLAND        0.000181\n",
      "dtype: float64\n",
      "XGBoost Feature Importances:\n",
      "ocean_proximity_INLAND        0.466779\n",
      "median_income                 0.234838\n",
      "ocean_proximity_ISLAND        0.069896\n",
      "population_per_household      0.058035\n",
      "ocean_proximity_NEAR BAY      0.029280\n",
      "housing_median_age            0.023792\n",
      "latitude                      0.023628\n",
      "longitude                     0.023512\n",
      "ocean_proximity_NEAR OCEAN    0.019008\n",
      "rooms_per_household           0.012363\n",
      "total_bedrooms                0.009139\n",
      "bedrooms_per_room             0.008740\n",
      "population                    0.007422\n",
      "total_rooms                   0.006960\n",
      "households                    0.006607\n",
      "dtype: float32\n"
     ]
    }
   ],
   "source": [
    "# For Random Forest\n",
    "rf_feature_importances = pd.Series(rf_model.feature_importances_, index=X.columns)\n",
    "print(\"Random Forest Feature Importances:\")\n",
    "print(rf_feature_importances.sort_values(ascending=False))\n",
    "\n",
    "# For XGBoost\n",
    "xgb_feature_importances = pd.Series(xgb_model.feature_importances_, index=X.columns)\n",
    "print(\"XGBoost Feature Importances:\")\n",
    "print(xgb_feature_importances.sort_values(ascending=False))"
   ]
  },
  {
   "cell_type": "markdown",
   "id": "5d319508-9ac3-43e5-8611-0cc0520189ac",
   "metadata": {},
   "source": [
    "## Cross-Validation"
   ]
  },
  {
   "cell_type": "code",
   "execution_count": 71,
   "id": "58f26780-81f7-4aba-8d43-3c754c26c317",
   "metadata": {},
   "outputs": [
    {
     "name": "stdout",
     "output_type": "stream",
     "text": [
      "Linear Regression - Cross-Validated MSE: 5294106750.476924\n"
     ]
    }
   ],
   "source": [
    "from sklearn.model_selection import cross_val_score\n",
    "\n",
    "cv_scores_linear = cross_val_score(linear_reg, X, y, cv=5, scoring='neg_mean_squared_error')\n",
    "mean_cv_mse_linear = -cv_scores_linear.mean()\n",
    "\n",
    "print(f'Linear Regression - Cross-Validated MSE: {mean_cv_mse_linear}')"
   ]
  },
  {
   "cell_type": "code",
   "execution_count": 72,
   "id": "4f975248-8a08-48fd-971c-62325db20fcc",
   "metadata": {},
   "outputs": [
    {
     "name": "stdout",
     "output_type": "stream",
     "text": [
      "Decision Tree - Cross-Validated MSE: 9084825086.741695\n"
     ]
    }
   ],
   "source": [
    "tree_reg = DecisionTreeRegressor(random_state=42)\n",
    "\n",
    "cv_scores_tree = cross_val_score(tree_reg, X, y, cv=5, scoring='neg_mean_squared_error')\n",
    "mean_cv_mse_tree = -cv_scores_tree.mean()\n",
    "\n",
    "print(f'Decision Tree - Cross-Validated MSE: {mean_cv_mse_tree}')"
   ]
  },
  {
   "cell_type": "code",
   "execution_count": 73,
   "id": "4b61540a-99c8-4f48-8aff-462fbf21980c",
   "metadata": {},
   "outputs": [
    {
     "name": "stdout",
     "output_type": "stream",
     "text": [
      "Random Forest - Cross-Validated MSE: 4899083300.728677\n"
     ]
    }
   ],
   "source": [
    "rf_model = RandomForestRegressor(n_estimators=100, random_state=42)\n",
    "\n",
    "cv_scores_rf = cross_val_score(rf_model, X, y, cv=5, scoring='neg_mean_squared_error')\n",
    "mean_cv_mse_rf = -cv_scores_rf.mean()\n",
    "\n",
    "print(f'Random Forest - Cross-Validated MSE: {mean_cv_mse_rf}')"
   ]
  },
  {
   "cell_type": "code",
   "execution_count": 74,
   "id": "a1bca7c2-b2a2-4182-b285-279bdf7dc0b0",
   "metadata": {},
   "outputs": [
    {
     "name": "stdout",
     "output_type": "stream",
     "text": [
      "Gradient Boosting - Cross-Validated MSE: 4336577183.890752\n"
     ]
    }
   ],
   "source": [
    "gb_model = GradientBoostingRegressor(n_estimators=100, random_state=42)\n",
    "\n",
    "cv_scores_gb = cross_val_score(gb_model, X, y, cv=5, scoring='neg_mean_squared_error')\n",
    "mean_cv_mse_gb = -cv_scores_gb.mean()\n",
    "\n",
    "print(f'Gradient Boosting - Cross-Validated MSE: {mean_cv_mse_gb}')"
   ]
  },
  {
   "cell_type": "code",
   "execution_count": 75,
   "id": "ec0b58dc-5f27-40a1-ada0-d014c951e5cd",
   "metadata": {},
   "outputs": [
    {
     "name": "stdout",
     "output_type": "stream",
     "text": [
      "KNN Regression - Cross-Validated MSE: 5916107017.343259\n"
     ]
    }
   ],
   "source": [
    "cv_scores_knn = cross_val_score(knn, X, y, cv=5, scoring='neg_mean_squared_error')\n",
    "mean_cv_mse_knn = -cv_scores_knn.mean()\n",
    "\n",
    "print(f'KNN Regression - Cross-Validated MSE: {mean_cv_mse_knn}')"
   ]
  },
  {
   "cell_type": "code",
   "execution_count": 76,
   "id": "8dd64e3f-8766-4363-8f2d-0da1693ba60f",
   "metadata": {},
   "outputs": [
    {
     "name": "stdout",
     "output_type": "stream",
     "text": [
      "XGBoost - Cross-Validated MSE: 4207931045.5173354\n"
     ]
    }
   ],
   "source": [
    "xgb_model = XGBRegressor(n_estimators=100, random_state=42)\n",
    "\n",
    "cv_scores_xgb = cross_val_score(xgb_model, X, y, cv=5, scoring='neg_mean_squared_error')\n",
    "mean_cv_mse_xgb = -cv_scores_xgb.mean()\n",
    "\n",
    "print(f'XGBoost - Cross-Validated MSE: {mean_cv_mse_xgb}')"
   ]
  },
  {
   "cell_type": "markdown",
   "id": "dbef254d-f7ef-4bf5-a4ce-c0ef7dc32d18",
   "metadata": {},
   "source": [
    "## Hyperparameter Tuning "
   ]
  },
  {
   "cell_type": "code",
   "execution_count": 81,
   "id": "120f1652-9ccb-468b-ae61-bada6b504fe4",
   "metadata": {},
   "outputs": [
    {
     "name": "stdout",
     "output_type": "stream",
     "text": [
      "Fitting 3 folds for each of 10 candidates, totalling 30 fits\n",
      "Best params for Random Forest: {'n_estimators': 300, 'min_samples_split': 10, 'min_samples_leaf': 5, 'max_depth': 30, 'bootstrap': True}\n",
      "Random Forest - MSE: 2580040810.3582463, R^2: 0.8113340619971634, MAE: 32835.227755921806\n",
      "Fitting 3 folds for each of 10 candidates, totalling 30 fits\n",
      "Best params for Gradient Boosting: {'subsample': 1.0, 'n_estimators': 300, 'min_samples_split': 50, 'min_samples_leaf': 20, 'max_depth': 7, 'learning_rate': 0.1}\n",
      "Gradient Boosting - MSE: 2117902221.769241, R^2: 0.8451280275629038, MAE: 29946.48409284981\n"
     ]
    }
   ],
   "source": [
    "param_grid_rf = {\n",
    "    'n_estimators': [50, 100, 200, 300],       \n",
    "    'max_depth': [10, 20, 30, None],           \n",
    "    'min_samples_split': [10, 20, 50, 100],    \n",
    "    'min_samples_leaf': [5, 10, 20, 50],       \n",
    "    'bootstrap': [True, False]                 \n",
    "}\n",
    "\n",
    "random_search_rf = RandomizedSearchCV(estimator=rf_model, \n",
    "                                      param_distributions=param_grid_rf, \n",
    "                                      n_iter=10,                      \n",
    "                                      cv=3,                           \n",
    "                                      scoring='neg_mean_squared_error', \n",
    "                                      n_jobs=-1,                      \n",
    "                                      verbose=2,                      \n",
    "                                      random_state=42)\n",
    "\n",
    "random_search_rf.fit(X_train, y_train)\n",
    "\n",
    "print(f'Best params for Random Forest: {random_search_rf.best_params_}')\n",
    "\n",
    "best_rf_model = random_search_rf.best_estimator_\n",
    "y_rf_pred = best_rf_model.predict(X_test)\n",
    "\n",
    "mse_rf = mean_squared_error(y_test, y_rf_pred)\n",
    "r2_rf = r2_score(y_test, y_rf_pred)\n",
    "mae_rf = mean_absolute_error(y_test, y_rf_pred)\n",
    "print(f\"Random Forest - MSE: {mse_rf}, R^2: {r2_rf}, MAE: {mae_rf}\")\n",
    "\n",
    "param_grid_gb = {\n",
    "    'n_estimators': [100, 200, 300],           \n",
    "    'learning_rate': [0.01, 0.05, 0.1, 0.2],   \n",
    "    'max_depth': [3, 5, 7, 10],                \n",
    "    'subsample': [0.8, 1.0],                   \n",
    "    'min_samples_split': [10, 20, 50],         \n",
    "    'min_samples_leaf': [5, 10, 20]            \n",
    "}\n",
    "\n",
    "random_search_gb = RandomizedSearchCV(estimator=gb_model, \n",
    "                                      param_distributions=param_grid_gb, \n",
    "                                      n_iter=10,                     # Try 10 parameter combinations\n",
    "                                      cv=3,                          # 3-fold cross-validation\n",
    "                                      scoring='neg_mean_squared_error', \n",
    "                                      n_jobs=-1,                     # Use all available cores\n",
    "                                      verbose=2,                     # Show progress\n",
    "                                      random_state=42)\n",
    "\n",
    "\n",
    "random_search_gb.fit(X_train, y_train)\n",
    "\n",
    "print(f'Best params for Gradient Boosting: {random_search_gb.best_params_}')\n",
    "\n",
    "best_gb_model = random_search_gb.best_estimator_\n",
    "y_gb_pred = best_gb_model.predict(X_test)\n",
    "\n",
    "mse_gb = mean_squared_error(y_test, y_gb_pred)\n",
    "r2_gb = r2_score(y_test, y_gb_pred)\n",
    "mae_gb = mean_absolute_error(y_test, y_gb_pred)\n",
    "print(f\"Gradient Boosting - MSE: {mse_gb}, R^2: {r2_gb}, MAE: {mae_gb}\")"
   ]
  },
  {
   "cell_type": "code",
   "execution_count": 83,
   "id": "76194c3d-bb42-490a-b436-575c57c566b9",
   "metadata": {},
   "outputs": [
    {
     "name": "stdout",
     "output_type": "stream",
     "text": [
      "Random Forest - MSE: 2580040810.3582463, R^2: 0.8113340619971634, MAE: 32835.227755921806\n",
      "Gradient Boosting - MSE: 2117902221.769241, R^2: 0.8451280275629038, MAE: 29946.48409284981\n"
     ]
    }
   ],
   "source": [
    "# Evaluate Random Forest with the best parameters\n",
    "best_rf_model = random_search_rf.best_estimator_\n",
    "y_rf_pred = best_rf_model.predict(X_test)\n",
    "\n",
    "# Evaluate Gradient Boosting with the best parameters\n",
    "best_gb_model = random_search_gb.best_estimator_\n",
    "y_gb_pred = best_gb_model.predict(X_test)\n",
    "\n",
    "# Calculate metrics (MSE, R^2, MAE)\n",
    "from sklearn.metrics import mean_squared_error, r2_score, mean_absolute_error\n",
    "\n",
    "# Random Forest Performance\n",
    "mse_rf = mean_squared_error(y_test, y_rf_pred)\n",
    "r2_rf = r2_score(y_test, y_rf_pred)\n",
    "mae_rf = mean_absolute_error(y_test, y_rf_pred)\n",
    "\n",
    "print(f\"Random Forest - MSE: {mse_rf}, R^2: {r2_rf}, MAE: {mae_rf}\")\n",
    "\n",
    "# Gradient Boosting Performance\n",
    "mse_gb = mean_squared_error(y_test, y_gb_pred)\n",
    "r2_gb = r2_score(y_test, y_gb_pred)\n",
    "mae_gb = mean_absolute_error(y_test, y_gb_pred)\n",
    "\n",
    "print(f\"Gradient Boosting - MSE: {mse_gb}, R^2: {r2_gb}, MAE: {mae_gb}\")\n"
   ]
  },
  {
   "cell_type": "code",
   "execution_count": 87,
   "id": "285fcac0-7815-4391-a221-c9ef4a67f415",
   "metadata": {},
   "outputs": [
    {
     "name": "stderr",
     "output_type": "stream",
     "text": [
      "D:\\anaconda\\Lib\\site-packages\\sklearn\\model_selection\\_search.py:320: UserWarning: The total space of parameters 1 is smaller than n_iter=5. Running 1 iterations. For exhaustive searches, use GridSearchCV.\n",
      "  warnings.warn(\n"
     ]
    },
    {
     "name": "stdout",
     "output_type": "stream",
     "text": [
      "Fitting 3 folds for each of 1 candidates, totalling 3 fits\n",
      "Best params for Lasso: {'alphas': [0.01, 0.1, 1, 10, 100]}\n",
      "Lasso Regression - MSE: 4766078085.158419, R^2: 0.6514797018244372, MAE: 49771.92234149039\n"
     ]
    }
   ],
   "source": [
    " # Lasso Regression Hyperparameter Tuning\n",
    "param_grid_lasso = {\n",
    "    'alphas': [[0.01, 0.1, 1, 10, 100]]  # A list of alphas for LassoCV\n",
    "}\n",
    "\n",
    "random_search_lasso = RandomizedSearchCV(estimator=LassoCV(), \n",
    "                                         param_distributions=param_grid_lasso, \n",
    "                                         n_iter=5, \n",
    "                                         cv=3, \n",
    "                                         scoring='neg_mean_squared_error', \n",
    "                                         n_jobs=-1, \n",
    "                                         verbose=2, \n",
    "                                         random_state=42)\n",
    "\n",
    "# Fit the Lasso model with random search\n",
    "random_search_lasso.fit(X_train, y_train)\n",
    "print(f'Best params for Lasso: {random_search_lasso.best_params_}')\n",
    "\n",
    "# ------------------------------------------------\n",
    "# Lasso Regression Evaluation\n",
    "# ------------------------------------------------\n",
    "best_lasso_model = random_search_lasso.best_estimator_\n",
    "y_lasso_pred = best_lasso_model.predict(X_test)\n",
    "mse_lasso = mean_squared_error(y_test, y_lasso_pred)\n",
    "r2_lasso = r2_score(y_test, y_lasso_pred)\n",
    "mae_lasso = mean_absolute_error(y_test, y_lasso_pred)\n",
    "\n",
    "print(f\"Lasso Regression - MSE: {mse_lasso}, R^2: {r2_lasso}, MAE: {mae_lasso}\")\n"
   ]
  },
  {
   "cell_type": "code",
   "execution_count": 89,
   "id": "bad5aab7-c584-4231-a1cd-aa93ce42af79",
   "metadata": {},
   "outputs": [
    {
     "name": "stderr",
     "output_type": "stream",
     "text": [
      "D:\\anaconda\\Lib\\site-packages\\sklearn\\model_selection\\_search.py:320: UserWarning: The total space of parameters 1 is smaller than n_iter=5. Running 1 iterations. For exhaustive searches, use GridSearchCV.\n",
      "  warnings.warn(\n"
     ]
    },
    {
     "name": "stdout",
     "output_type": "stream",
     "text": [
      "Fitting 3 folds for each of 1 candidates, totalling 3 fits\n",
      "Best params for Ridge: {'alphas': [0.01, 0.1, 1, 10, 100]}\n",
      "Ridge Regression - MSE: 4766804121.997073, R^2: 0.6514266102529243, MAE: 49774.20631872844\n"
     ]
    }
   ],
   "source": [
    "param_grid_ridge = {\n",
    "    'alphas': [[0.01, 0.1, 1, 10, 100]]  # Regularization strength in RidgeCV must be a list of values\n",
    "}\n",
    "\n",
    "random_search_ridge = RandomizedSearchCV(estimator=RidgeCV(), \n",
    "                                         param_distributions=param_grid_ridge, \n",
    "                                         n_iter=5, \n",
    "                                         cv=3, \n",
    "                                         scoring='neg_mean_squared_error', \n",
    "                                         n_jobs=-1, \n",
    "                                         verbose=2, \n",
    "                                         random_state=42)\n",
    "\n",
    "random_search_ridge.fit(X_train, y_train)\n",
    "print(f'Best params for Ridge: {random_search_ridge.best_params_}')\n",
    "\n",
    "# Ridge Regression Evaluation\n",
    "best_ridge_model = random_search_ridge.best_estimator_\n",
    "y_ridge_pred = best_ridge_model.predict(X_test)\n",
    "mse_ridge = mean_squared_error(y_test, y_ridge_pred)\n",
    "r2_ridge = r2_score(y_test, y_ridge_pred)\n",
    "mae_ridge = mean_absolute_error(y_test, y_ridge_pred)\n",
    "print(f\"Ridge Regression - MSE: {mse_ridge}, R^2: {r2_ridge}, MAE: {mae_ridge}\")"
   ]
  },
  {
   "cell_type": "code",
   "execution_count": null,
   "id": "27da8921-b852-4d71-99ed-b9109eda0c58",
   "metadata": {},
   "outputs": [],
   "source": []
  }
 ],
 "metadata": {
  "kernelspec": {
   "display_name": "Python 3 (ipykernel)",
   "language": "python",
   "name": "python3"
  },
  "language_info": {
   "codemirror_mode": {
    "name": "ipython",
    "version": 3
   },
   "file_extension": ".py",
   "mimetype": "text/x-python",
   "name": "python",
   "nbconvert_exporter": "python",
   "pygments_lexer": "ipython3",
   "version": "3.11.7"
  }
 },
 "nbformat": 4,
 "nbformat_minor": 5
}
